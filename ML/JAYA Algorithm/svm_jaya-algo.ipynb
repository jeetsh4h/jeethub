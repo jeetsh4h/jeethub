{
 "cells": [
  {
   "cell_type": "code",
   "execution_count": 52,
   "metadata": {},
   "outputs": [
    {
     "data": {
      "text/plain": [
       "12"
      ]
     },
     "execution_count": 52,
     "metadata": {},
     "output_type": "execute_result"
    }
   ],
   "source": [
    "import os\n",
    "\n",
    "n_cpu = os.cpu_count()\n",
    "n_cpu"
   ]
  },
  {
   "cell_type": "code",
   "execution_count": 53,
   "metadata": {},
   "outputs": [],
   "source": [
    "import pandas as pd\n",
    "import numpy as np"
   ]
  },
  {
   "cell_type": "code",
   "execution_count": 54,
   "metadata": {},
   "outputs": [
    {
     "data": {
      "text/plain": [
       "(188, 421)"
      ]
     },
     "execution_count": 54,
     "metadata": {},
     "output_type": "execute_result"
    }
   ],
   "source": [
    "dummy_data = pd.read_csv(\"apolipo.csv\")\n",
    "dummy_data.shape            # 421 attributes"
   ]
  },
  {
   "cell_type": "code",
   "execution_count": 55,
   "metadata": {},
   "outputs": [
    {
     "data": {
      "text/html": [
       "<div>\n",
       "<style scoped>\n",
       "    .dataframe tbody tr th:only-of-type {\n",
       "        vertical-align: middle;\n",
       "    }\n",
       "\n",
       "    .dataframe tbody tr th {\n",
       "        vertical-align: top;\n",
       "    }\n",
       "\n",
       "    .dataframe thead th {\n",
       "        text-align: right;\n",
       "    }\n",
       "</style>\n",
       "<table border=\"1\" class=\"dataframe\">\n",
       "  <thead>\n",
       "    <tr style=\"text-align: right;\">\n",
       "      <th></th>\n",
       "      <th>A</th>\n",
       "      <th>C</th>\n",
       "      <th>D</th>\n",
       "      <th>E</th>\n",
       "      <th>F</th>\n",
       "      <th>G</th>\n",
       "      <th>H</th>\n",
       "      <th>I</th>\n",
       "      <th>K</th>\n",
       "      <th>L</th>\n",
       "      <th>...</th>\n",
       "      <th>YN</th>\n",
       "      <th>YP</th>\n",
       "      <th>YQ</th>\n",
       "      <th>YR</th>\n",
       "      <th>YS</th>\n",
       "      <th>YT</th>\n",
       "      <th>YV</th>\n",
       "      <th>YW</th>\n",
       "      <th>YY</th>\n",
       "      <th>y</th>\n",
       "    </tr>\n",
       "  </thead>\n",
       "  <tbody>\n",
       "    <tr>\n",
       "      <th>count</th>\n",
       "      <td>188.000000</td>\n",
       "      <td>188.000000</td>\n",
       "      <td>188.000000</td>\n",
       "      <td>188.000000</td>\n",
       "      <td>188.000000</td>\n",
       "      <td>188.000000</td>\n",
       "      <td>188.000000</td>\n",
       "      <td>188.000000</td>\n",
       "      <td>188.000000</td>\n",
       "      <td>188.000000</td>\n",
       "      <td>...</td>\n",
       "      <td>188.000000</td>\n",
       "      <td>188.000000</td>\n",
       "      <td>188.000000</td>\n",
       "      <td>188.000000</td>\n",
       "      <td>188.000000</td>\n",
       "      <td>188.000000</td>\n",
       "      <td>188.000000</td>\n",
       "      <td>188.000000</td>\n",
       "      <td>188.000000</td>\n",
       "      <td>188.000000</td>\n",
       "    </tr>\n",
       "    <tr>\n",
       "      <th>mean</th>\n",
       "      <td>0.077575</td>\n",
       "      <td>0.030471</td>\n",
       "      <td>0.041081</td>\n",
       "      <td>0.054918</td>\n",
       "      <td>0.040699</td>\n",
       "      <td>0.074569</td>\n",
       "      <td>0.024076</td>\n",
       "      <td>0.041579</td>\n",
       "      <td>0.049528</td>\n",
       "      <td>0.108409</td>\n",
       "      <td>...</td>\n",
       "      <td>0.001473</td>\n",
       "      <td>0.001701</td>\n",
       "      <td>0.000996</td>\n",
       "      <td>0.001902</td>\n",
       "      <td>0.002197</td>\n",
       "      <td>0.001525</td>\n",
       "      <td>0.001614</td>\n",
       "      <td>0.000631</td>\n",
       "      <td>0.001008</td>\n",
       "      <td>0.281915</td>\n",
       "    </tr>\n",
       "    <tr>\n",
       "      <th>std</th>\n",
       "      <td>0.032832</td>\n",
       "      <td>0.028688</td>\n",
       "      <td>0.016485</td>\n",
       "      <td>0.024134</td>\n",
       "      <td>0.021358</td>\n",
       "      <td>0.035840</td>\n",
       "      <td>0.016050</td>\n",
       "      <td>0.024393</td>\n",
       "      <td>0.026055</td>\n",
       "      <td>0.034274</td>\n",
       "      <td>...</td>\n",
       "      <td>0.002703</td>\n",
       "      <td>0.002541</td>\n",
       "      <td>0.001863</td>\n",
       "      <td>0.003148</td>\n",
       "      <td>0.002927</td>\n",
       "      <td>0.002358</td>\n",
       "      <td>0.002166</td>\n",
       "      <td>0.001629</td>\n",
       "      <td>0.001860</td>\n",
       "      <td>0.451134</td>\n",
       "    </tr>\n",
       "    <tr>\n",
       "      <th>min</th>\n",
       "      <td>0.025000</td>\n",
       "      <td>0.000000</td>\n",
       "      <td>0.000000</td>\n",
       "      <td>0.006361</td>\n",
       "      <td>0.000000</td>\n",
       "      <td>0.007634</td>\n",
       "      <td>0.000000</td>\n",
       "      <td>0.000000</td>\n",
       "      <td>0.005597</td>\n",
       "      <td>0.022959</td>\n",
       "      <td>...</td>\n",
       "      <td>0.000000</td>\n",
       "      <td>0.000000</td>\n",
       "      <td>0.000000</td>\n",
       "      <td>0.000000</td>\n",
       "      <td>0.000000</td>\n",
       "      <td>0.000000</td>\n",
       "      <td>0.000000</td>\n",
       "      <td>0.000000</td>\n",
       "      <td>0.000000</td>\n",
       "      <td>0.000000</td>\n",
       "    </tr>\n",
       "    <tr>\n",
       "      <th>25%</th>\n",
       "      <td>0.054178</td>\n",
       "      <td>0.009298</td>\n",
       "      <td>0.029169</td>\n",
       "      <td>0.038685</td>\n",
       "      <td>0.027805</td>\n",
       "      <td>0.055556</td>\n",
       "      <td>0.015311</td>\n",
       "      <td>0.024633</td>\n",
       "      <td>0.030773</td>\n",
       "      <td>0.085733</td>\n",
       "      <td>...</td>\n",
       "      <td>0.000000</td>\n",
       "      <td>0.000000</td>\n",
       "      <td>0.000000</td>\n",
       "      <td>0.000000</td>\n",
       "      <td>0.000000</td>\n",
       "      <td>0.000000</td>\n",
       "      <td>0.000000</td>\n",
       "      <td>0.000000</td>\n",
       "      <td>0.000000</td>\n",
       "      <td>0.000000</td>\n",
       "    </tr>\n",
       "    <tr>\n",
       "      <th>50%</th>\n",
       "      <td>0.072688</td>\n",
       "      <td>0.022185</td>\n",
       "      <td>0.040906</td>\n",
       "      <td>0.052982</td>\n",
       "      <td>0.035923</td>\n",
       "      <td>0.070618</td>\n",
       "      <td>0.022011</td>\n",
       "      <td>0.037054</td>\n",
       "      <td>0.049268</td>\n",
       "      <td>0.105646</td>\n",
       "      <td>...</td>\n",
       "      <td>0.000000</td>\n",
       "      <td>0.000000</td>\n",
       "      <td>0.000000</td>\n",
       "      <td>0.000000</td>\n",
       "      <td>0.000958</td>\n",
       "      <td>0.000000</td>\n",
       "      <td>0.000000</td>\n",
       "      <td>0.000000</td>\n",
       "      <td>0.000000</td>\n",
       "      <td>0.000000</td>\n",
       "    </tr>\n",
       "    <tr>\n",
       "      <th>75%</th>\n",
       "      <td>0.094954</td>\n",
       "      <td>0.044164</td>\n",
       "      <td>0.053207</td>\n",
       "      <td>0.064842</td>\n",
       "      <td>0.050065</td>\n",
       "      <td>0.087584</td>\n",
       "      <td>0.030410</td>\n",
       "      <td>0.053343</td>\n",
       "      <td>0.064068</td>\n",
       "      <td>0.128123</td>\n",
       "      <td>...</td>\n",
       "      <td>0.001936</td>\n",
       "      <td>0.002778</td>\n",
       "      <td>0.001697</td>\n",
       "      <td>0.002785</td>\n",
       "      <td>0.003770</td>\n",
       "      <td>0.002494</td>\n",
       "      <td>0.002694</td>\n",
       "      <td>0.000000</td>\n",
       "      <td>0.001704</td>\n",
       "      <td>1.000000</td>\n",
       "    </tr>\n",
       "    <tr>\n",
       "      <th>max</th>\n",
       "      <td>0.212468</td>\n",
       "      <td>0.137097</td>\n",
       "      <td>0.087049</td>\n",
       "      <td>0.157724</td>\n",
       "      <td>0.118451</td>\n",
       "      <td>0.284987</td>\n",
       "      <td>0.137255</td>\n",
       "      <td>0.147510</td>\n",
       "      <td>0.125000</td>\n",
       "      <td>0.226562</td>\n",
       "      <td>...</td>\n",
       "      <td>0.014925</td>\n",
       "      <td>0.012821</td>\n",
       "      <td>0.012821</td>\n",
       "      <td>0.020000</td>\n",
       "      <td>0.014925</td>\n",
       "      <td>0.012821</td>\n",
       "      <td>0.010870</td>\n",
       "      <td>0.010000</td>\n",
       "      <td>0.008475</td>\n",
       "      <td>1.000000</td>\n",
       "    </tr>\n",
       "  </tbody>\n",
       "</table>\n",
       "<p>8 rows × 421 columns</p>\n",
       "</div>"
      ],
      "text/plain": [
       "                A           C           D           E           F           G  \\\n",
       "count  188.000000  188.000000  188.000000  188.000000  188.000000  188.000000   \n",
       "mean     0.077575    0.030471    0.041081    0.054918    0.040699    0.074569   \n",
       "std      0.032832    0.028688    0.016485    0.024134    0.021358    0.035840   \n",
       "min      0.025000    0.000000    0.000000    0.006361    0.000000    0.007634   \n",
       "25%      0.054178    0.009298    0.029169    0.038685    0.027805    0.055556   \n",
       "50%      0.072688    0.022185    0.040906    0.052982    0.035923    0.070618   \n",
       "75%      0.094954    0.044164    0.053207    0.064842    0.050065    0.087584   \n",
       "max      0.212468    0.137097    0.087049    0.157724    0.118451    0.284987   \n",
       "\n",
       "                H           I           K           L  ...          YN  \\\n",
       "count  188.000000  188.000000  188.000000  188.000000  ...  188.000000   \n",
       "mean     0.024076    0.041579    0.049528    0.108409  ...    0.001473   \n",
       "std      0.016050    0.024393    0.026055    0.034274  ...    0.002703   \n",
       "min      0.000000    0.000000    0.005597    0.022959  ...    0.000000   \n",
       "25%      0.015311    0.024633    0.030773    0.085733  ...    0.000000   \n",
       "50%      0.022011    0.037054    0.049268    0.105646  ...    0.000000   \n",
       "75%      0.030410    0.053343    0.064068    0.128123  ...    0.001936   \n",
       "max      0.137255    0.147510    0.125000    0.226562  ...    0.014925   \n",
       "\n",
       "               YP          YQ          YR          YS          YT          YV  \\\n",
       "count  188.000000  188.000000  188.000000  188.000000  188.000000  188.000000   \n",
       "mean     0.001701    0.000996    0.001902    0.002197    0.001525    0.001614   \n",
       "std      0.002541    0.001863    0.003148    0.002927    0.002358    0.002166   \n",
       "min      0.000000    0.000000    0.000000    0.000000    0.000000    0.000000   \n",
       "25%      0.000000    0.000000    0.000000    0.000000    0.000000    0.000000   \n",
       "50%      0.000000    0.000000    0.000000    0.000958    0.000000    0.000000   \n",
       "75%      0.002778    0.001697    0.002785    0.003770    0.002494    0.002694   \n",
       "max      0.012821    0.012821    0.020000    0.014925    0.012821    0.010870   \n",
       "\n",
       "               YW          YY           y  \n",
       "count  188.000000  188.000000  188.000000  \n",
       "mean     0.000631    0.001008    0.281915  \n",
       "std      0.001629    0.001860    0.451134  \n",
       "min      0.000000    0.000000    0.000000  \n",
       "25%      0.000000    0.000000    0.000000  \n",
       "50%      0.000000    0.000000    0.000000  \n",
       "75%      0.000000    0.001704    1.000000  \n",
       "max      0.010000    0.008475    1.000000  \n",
       "\n",
       "[8 rows x 421 columns]"
      ]
     },
     "execution_count": 55,
     "metadata": {},
     "output_type": "execute_result"
    }
   ],
   "source": [
    "dummy_data.describe()"
   ]
  },
  {
   "cell_type": "code",
   "execution_count": 56,
   "metadata": {},
   "outputs": [
    {
     "data": {
      "text/plain": [
       "0    135\n",
       "1     53\n",
       "Name: y, dtype: int64"
      ]
     },
     "execution_count": 56,
     "metadata": {},
     "output_type": "execute_result"
    }
   ],
   "source": [
    "dummy_data['y'].value_counts()"
   ]
  },
  {
   "cell_type": "code",
   "execution_count": 57,
   "metadata": {},
   "outputs": [],
   "source": [
    "X = dummy_data.drop(columns='y')\n",
    "y = dummy_data['y']"
   ]
  },
  {
   "cell_type": "code",
   "execution_count": 58,
   "metadata": {},
   "outputs": [],
   "source": [
    "from sklearn.model_selection import train_test_split\n",
    "\n",
    "X_train, X_test, y_train, y_test = train_test_split(X, y, test_size=0.2, random_state=42)"
   ]
  },
  {
   "cell_type": "code",
   "execution_count": 59,
   "metadata": {},
   "outputs": [],
   "source": [
    "from sklearn import svm\n",
    "\n",
    "svm_model = svm.SVC(random_state=42)"
   ]
  },
  {
   "cell_type": "code",
   "execution_count": 60,
   "metadata": {},
   "outputs": [
    {
     "data": {
      "text/html": [
       "<style>#sk-container-id-4 {color: black;background-color: white;}#sk-container-id-4 pre{padding: 0;}#sk-container-id-4 div.sk-toggleable {background-color: white;}#sk-container-id-4 label.sk-toggleable__label {cursor: pointer;display: block;width: 100%;margin-bottom: 0;padding: 0.3em;box-sizing: border-box;text-align: center;}#sk-container-id-4 label.sk-toggleable__label-arrow:before {content: \"▸\";float: left;margin-right: 0.25em;color: #696969;}#sk-container-id-4 label.sk-toggleable__label-arrow:hover:before {color: black;}#sk-container-id-4 div.sk-estimator:hover label.sk-toggleable__label-arrow:before {color: black;}#sk-container-id-4 div.sk-toggleable__content {max-height: 0;max-width: 0;overflow: hidden;text-align: left;background-color: #f0f8ff;}#sk-container-id-4 div.sk-toggleable__content pre {margin: 0.2em;color: black;border-radius: 0.25em;background-color: #f0f8ff;}#sk-container-id-4 input.sk-toggleable__control:checked~div.sk-toggleable__content {max-height: 200px;max-width: 100%;overflow: auto;}#sk-container-id-4 input.sk-toggleable__control:checked~label.sk-toggleable__label-arrow:before {content: \"▾\";}#sk-container-id-4 div.sk-estimator input.sk-toggleable__control:checked~label.sk-toggleable__label {background-color: #d4ebff;}#sk-container-id-4 div.sk-label input.sk-toggleable__control:checked~label.sk-toggleable__label {background-color: #d4ebff;}#sk-container-id-4 input.sk-hidden--visually {border: 0;clip: rect(1px 1px 1px 1px);clip: rect(1px, 1px, 1px, 1px);height: 1px;margin: -1px;overflow: hidden;padding: 0;position: absolute;width: 1px;}#sk-container-id-4 div.sk-estimator {font-family: monospace;background-color: #f0f8ff;border: 1px dotted black;border-radius: 0.25em;box-sizing: border-box;margin-bottom: 0.5em;}#sk-container-id-4 div.sk-estimator:hover {background-color: #d4ebff;}#sk-container-id-4 div.sk-parallel-item::after {content: \"\";width: 100%;border-bottom: 1px solid gray;flex-grow: 1;}#sk-container-id-4 div.sk-label:hover label.sk-toggleable__label {background-color: #d4ebff;}#sk-container-id-4 div.sk-serial::before {content: \"\";position: absolute;border-left: 1px solid gray;box-sizing: border-box;top: 0;bottom: 0;left: 50%;z-index: 0;}#sk-container-id-4 div.sk-serial {display: flex;flex-direction: column;align-items: center;background-color: white;padding-right: 0.2em;padding-left: 0.2em;position: relative;}#sk-container-id-4 div.sk-item {position: relative;z-index: 1;}#sk-container-id-4 div.sk-parallel {display: flex;align-items: stretch;justify-content: center;background-color: white;position: relative;}#sk-container-id-4 div.sk-item::before, #sk-container-id-4 div.sk-parallel-item::before {content: \"\";position: absolute;border-left: 1px solid gray;box-sizing: border-box;top: 0;bottom: 0;left: 50%;z-index: -1;}#sk-container-id-4 div.sk-parallel-item {display: flex;flex-direction: column;z-index: 1;position: relative;background-color: white;}#sk-container-id-4 div.sk-parallel-item:first-child::after {align-self: flex-end;width: 50%;}#sk-container-id-4 div.sk-parallel-item:last-child::after {align-self: flex-start;width: 50%;}#sk-container-id-4 div.sk-parallel-item:only-child::after {width: 0;}#sk-container-id-4 div.sk-dashed-wrapped {border: 1px dashed gray;margin: 0 0.4em 0.5em 0.4em;box-sizing: border-box;padding-bottom: 0.4em;background-color: white;}#sk-container-id-4 div.sk-label label {font-family: monospace;font-weight: bold;display: inline-block;line-height: 1.2em;}#sk-container-id-4 div.sk-label-container {text-align: center;}#sk-container-id-4 div.sk-container {/* jupyter's `normalize.less` sets `[hidden] { display: none; }` but bootstrap.min.css set `[hidden] { display: none !important; }` so we also need the `!important` here to be able to override the default hidden behavior on the sphinx rendered scikit-learn.org. See: https://github.com/scikit-learn/scikit-learn/issues/21755 */display: inline-block !important;position: relative;}#sk-container-id-4 div.sk-text-repr-fallback {display: none;}</style><div id=\"sk-container-id-4\" class=\"sk-top-container\"><div class=\"sk-text-repr-fallback\"><pre>GridSearchCV(estimator=SVC(random_state=42), n_jobs=12,\n",
       "             param_grid={&#x27;C&#x27;: [0.1, 1, 10, 100, 1000],\n",
       "                         &#x27;gamma&#x27;: [1, 0.1, 0.01, 0.001, 0.0001],\n",
       "                         &#x27;kernel&#x27;: [&#x27;rbf&#x27;, &#x27;poly&#x27;, &#x27;sigmoid&#x27;]})</pre><b>In a Jupyter environment, please rerun this cell to show the HTML representation or trust the notebook. <br />On GitHub, the HTML representation is unable to render, please try loading this page with nbviewer.org.</b></div><div class=\"sk-container\" hidden><div class=\"sk-item sk-dashed-wrapped\"><div class=\"sk-label-container\"><div class=\"sk-label sk-toggleable\"><input class=\"sk-toggleable__control sk-hidden--visually\" id=\"sk-estimator-id-10\" type=\"checkbox\" ><label for=\"sk-estimator-id-10\" class=\"sk-toggleable__label sk-toggleable__label-arrow\">GridSearchCV</label><div class=\"sk-toggleable__content\"><pre>GridSearchCV(estimator=SVC(random_state=42), n_jobs=12,\n",
       "             param_grid={&#x27;C&#x27;: [0.1, 1, 10, 100, 1000],\n",
       "                         &#x27;gamma&#x27;: [1, 0.1, 0.01, 0.001, 0.0001],\n",
       "                         &#x27;kernel&#x27;: [&#x27;rbf&#x27;, &#x27;poly&#x27;, &#x27;sigmoid&#x27;]})</pre></div></div></div><div class=\"sk-parallel\"><div class=\"sk-parallel-item\"><div class=\"sk-item\"><div class=\"sk-label-container\"><div class=\"sk-label sk-toggleable\"><input class=\"sk-toggleable__control sk-hidden--visually\" id=\"sk-estimator-id-11\" type=\"checkbox\" ><label for=\"sk-estimator-id-11\" class=\"sk-toggleable__label sk-toggleable__label-arrow\">estimator: SVC</label><div class=\"sk-toggleable__content\"><pre>SVC(random_state=42)</pre></div></div></div><div class=\"sk-serial\"><div class=\"sk-item\"><div class=\"sk-estimator sk-toggleable\"><input class=\"sk-toggleable__control sk-hidden--visually\" id=\"sk-estimator-id-12\" type=\"checkbox\" ><label for=\"sk-estimator-id-12\" class=\"sk-toggleable__label sk-toggleable__label-arrow\">SVC</label><div class=\"sk-toggleable__content\"><pre>SVC(random_state=42)</pre></div></div></div></div></div></div></div></div></div></div>"
      ],
      "text/plain": [
       "GridSearchCV(estimator=SVC(random_state=42), n_jobs=12,\n",
       "             param_grid={'C': [0.1, 1, 10, 100, 1000],\n",
       "                         'gamma': [1, 0.1, 0.01, 0.001, 0.0001],\n",
       "                         'kernel': ['rbf', 'poly', 'sigmoid']})"
      ]
     },
     "execution_count": 60,
     "metadata": {},
     "output_type": "execute_result"
    }
   ],
   "source": [
    "from sklearn.model_selection import GridSearchCV\n",
    "  \n",
    "param_grid = {'C': [0.1, 1, 10, 100, 1000], \n",
    "              'gamma': [1, 0.1, 0.01, 0.001, 0.0001],\n",
    "              'kernel': ['rbf', 'poly', 'sigmoid']}                # cant user linear because there are three classes\n",
    "  \n",
    "# refit is important\n",
    "tuned_svm_model = GridSearchCV(svm_model, param_grid, refit=True, n_jobs=n_cpu)     #if i use the same variable name as the argument, it implicitly maps\n",
    "tuned_svm_model.fit(X_train, y_train)"
   ]
  },
  {
   "cell_type": "code",
   "execution_count": 61,
   "metadata": {},
   "outputs": [],
   "source": [
    "max_population = 30\n",
    "max_iteration = 30\n",
    "\n",
    "np.random.seed(42)"
   ]
  },
  {
   "cell_type": "code",
   "execution_count": 62,
   "metadata": {},
   "outputs": [],
   "source": [
    "### jaya algo ancillary functions ###"
   ]
  },
  {
   "cell_type": "code",
   "execution_count": 63,
   "metadata": {},
   "outputs": [],
   "source": [
    "population = []\n",
    "population_member = []\n",
    "\n",
    "for i in range(max_population):\n",
    "    population_member = np.random.uniform(low=0.0, high=1.0, size=X.shape[1])\n",
    "    population.append(population_member)\n",
    "\n",
    "# initialising the first population, RANDOMLY"
   ]
  },
  {
   "cell_type": "code",
   "execution_count": 64,
   "metadata": {},
   "outputs": [],
   "source": [
    "# in the above cell, uniform creates an even distribution for the values it is picking from\n",
    "# X.shape[1] is the number of attributes present\n",
    "# the above cell is creating a random population of attributes to be used in the algorithm"
   ]
  },
  {
   "cell_type": "code",
   "execution_count": 65,
   "metadata": {},
   "outputs": [],
   "source": [
    "def clean_population(population):\n",
    "\n",
    "    for i in range(max_population):\n",
    "        if all(population[i]) < 0.5:\n",
    "            population[i] = np.random.uniform(low=0.0, high=1.0, size=X.shape[1])\n",
    "\n",
    "    for i in range(max_population):\n",
    "        if all(population[i]) < 0.5:\n",
    "            population[i] = np.random.uniform(low=0.0, high=1.0, size=X.shape[1])\n",
    "\n",
    "    return population"
   ]
  },
  {
   "cell_type": "code",
   "execution_count": 66,
   "metadata": {},
   "outputs": [],
   "source": [
    "# the above code is making sure there is at least one attribute to be tested for that iteration\n",
    "# doing it twice is just completely make sure\n",
    "\n",
    "# 0.5 is the threshold to take that attribute or not,,, it is arbitrarily chosen\n",
    "# in this case to give an even chance for the value to be chosen or not in that population_member"
   ]
  },
  {
   "cell_type": "code",
   "execution_count": 67,
   "metadata": {},
   "outputs": [],
   "source": [
    "from sklearn.model_selection import cross_val_score\n",
    "from sklearn.metrics import make_scorer\n",
    "from sklearn.metrics import accuracy_score\n",
    "\n",
    "def scoring_curr_model(population):\n",
    "    \n",
    "    scores = []\n",
    "    population = clean_population(population)\n",
    "\n",
    "    for i in range(max_population):\n",
    "        drop_columns = []\n",
    "        for j in range(X.shape[1]):\n",
    "                if population[i][j] < 0.5:\n",
    "                    drop_columns.append((X.columns[[j]])[0])\n",
    "        X_new = X.drop(columns=drop_columns)                    # ask him how he did it one line\n",
    "        y_new = y\n",
    "        \n",
    "        cv_score = cross_val_score(tuned_svm_model, X_new, y_new, scoring=make_scorer(accuracy_score), cv=5, n_jobs=n_cpu)\n",
    "        cv_score_mean = np.mean(cv_score)\n",
    "        scores.append(cv_score_mean)\n",
    "    \n",
    "    return scores"
   ]
  },
  {
   "cell_type": "code",
   "execution_count": null,
   "metadata": {},
   "outputs": [],
   "source": [
    "### Simple JAYA Algorithm ###\n",
    "\n",
    "for i in range(max_iteration):\n",
    "\n",
    "    curr_cv_scores = scoring_curr_model(population)\n",
    "    best_score = max(curr_cv_scores)\n",
    "    worst_score = min(curr_cv_scores)\n",
    "\n",
    "    best_member = population[curr_cv_scores.index(best_score)]\n",
    "    worst_member = population[curr_cv_scores.index(worst_score)]\n",
    "\n",
    "\n",
    "    for j in range(max_population):\n",
    "        population[j] = population[j] + np.random.uniform(0,1)*(population[j] - best_member) - np.random.uniform(0,1)*(population[j] - worst_member)\n",
    "        for k in range(X.shape[1]):\n",
    "            if population[j][k] < 0:\n",
    "                population[j][k] = 0\n",
    "            elif population[j][k] > 1:\n",
    "                population[j][k] = 1\n",
    "\n",
    "    print('working', i)\n",
    "\n",
    "curr_cv_scores = scoring_curr_model(population)\n",
    "best_score = max(curr_cv_scores)\n",
    "worst_score = min(curr_cv_scores)\n",
    "\n",
    "best_member = population[curr_cv_scores.index(best_score)]\n",
    "worst_member = population[curr_cv_scores.index(worst_score)]"
   ]
  },
  {
   "cell_type": "code",
   "execution_count": 69,
   "metadata": {},
   "outputs": [
    {
     "data": {
      "text/plain": [
       "Index(['A', 'C', 'E', 'F', 'G', 'H', 'I', 'L', 'N', 'Q',\n",
       "       ...\n",
       "       'YD', 'YE', 'YF', 'YG', 'YP', 'YQ', 'YR', 'YS', 'YT', 'YW'],\n",
       "      dtype='object', length=237)"
      ]
     },
     "execution_count": 69,
     "metadata": {},
     "output_type": "execute_result"
    }
   ],
   "source": [
    "# Attributes:\n",
    "drop_columns = []\n",
    "for i in range(X.shape[1]):\n",
    "        if best_member[i] < 0.5:\n",
    "            drop_columns.append((X.columns[[i]])[0])\n",
    "attribute = X.drop(columns=drop_columns)\n",
    "attribute.columns"
   ]
  },
  {
   "cell_type": "code",
   "execution_count": 70,
   "metadata": {},
   "outputs": [
    {
     "data": {
      "text/plain": [
       "0.9361308677098151"
      ]
     },
     "execution_count": 70,
     "metadata": {},
     "output_type": "execute_result"
    }
   ],
   "source": [
    "# Score:\n",
    "best_score\n",
    "\n",
    "# the highest score i got was 0.936 (with 42 as random state everywhere)"
   ]
  }
 ],
 "metadata": {
  "kernelspec": {
   "display_name": "Python 3.10.8 64-bit (microsoft store)",
   "language": "python",
   "name": "python3"
  },
  "language_info": {
   "codemirror_mode": {
    "name": "ipython",
    "version": 3
   },
   "file_extension": ".py",
   "mimetype": "text/x-python",
   "name": "python",
   "nbconvert_exporter": "python",
   "pygments_lexer": "ipython3",
   "version": "3.10.8"
  },
  "orig_nbformat": 4,
  "vscode": {
   "interpreter": {
    "hash": "810f38eb9a8cc6b57d91a5edbc857ffdb3d9ae2a9082108d67db603f01ecb21b"
   }
  }
 },
 "nbformat": 4,
 "nbformat_minor": 2
}
